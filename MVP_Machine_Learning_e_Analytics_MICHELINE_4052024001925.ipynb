{
  "nbformat": 4,
  "nbformat_minor": 0,
  "metadata": {
    "colab": {
      "provenance": [],
      "authorship_tag": "ABX9TyPt47TXXnYrfpCPAvNqmeqs",
      "include_colab_link": true
    },
    "kernelspec": {
      "name": "python3",
      "display_name": "Python 3"
    },
    "language_info": {
      "name": "python"
    }
  },
  "cells": [
    {
      "cell_type": "markdown",
      "metadata": {
        "id": "view-in-github",
        "colab_type": "text"
      },
      "source": [
        "<a href=\"https://colab.research.google.com/github/Micheline-code/pos-ciencia-de-dados-analytics-sprint-3/blob/main/MVP_Machine_Learning_e_Analytics_MICHELINE_4052024001925.ipynb\" target=\"_parent\"><img src=\"https://colab.research.google.com/assets/colab-badge.svg\" alt=\"Open In Colab\"/></a>"
      ]
    },
    {
      "cell_type": "markdown",
      "source": [
        "# MVP Machine Learning e Analytics\n",
        "\n",
        "**Nome:** Micheline Carvalho Barroso Pereira\n",
        "\n",
        "**Matrícula:** 4052024001925\n",
        "\n",
        "**Dataset:** [AI vs Human Content Detection](https://raw.githubusercontent.com/Micheline-code/pos-ciencia-de-dados-analytics-sprint-3/main/ai_human_content_detection_dataset.csv)\n"
      ],
      "metadata": {
        "id": "ToKSdqTPAJ4f"
      }
    }
  ]
}